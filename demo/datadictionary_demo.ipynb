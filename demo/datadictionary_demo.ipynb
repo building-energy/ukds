{
 "cells": [
  {
   "cell_type": "markdown",
   "metadata": {},
   "source": [
    "# datadictionary_demo\n",
    "\n",
    "This notebook demonstrates the use of the DataDictionary object in the ukds package.\n",
    "\n",
    "This demonstration uses for an example the following dataset: Gershuny, J., Sullivan, O. (2017). United Kingdom Time Use Survey, 2014-2015. Centre for Time Use Research, University of Oxford. [data collection]. UK Data Service. SN: 8128, http://doi.org/10.5255/UKDA-SN-8128-1\n"
   ]
  },
  {
   "cell_type": "markdown",
   "metadata": {},
   "source": [
    "## Import the ukds package"
   ]
  },
  {
   "cell_type": "code",
   "execution_count": 1,
   "metadata": {},
   "outputs": [],
   "source": [
    "import ukds"
   ]
  },
  {
   "cell_type": "markdown",
   "metadata": {},
   "source": [
    "## Set up a filepath to a UKDS .rtf data dictionary file"
   ]
  },
  {
   "cell_type": "code",
   "execution_count": 2,
   "metadata": {},
   "outputs": [],
   "source": [
    "fp=r'C:\\Users\\cvskf\\OneDrive - Loughborough University\\_Data\\United_Kingdom_Time_Use_Survey_2014-2015' + \\\n",
    "   r'\\UKDA-8128-tab\\mrdoc\\allissue\\uktus15_household_ukda_data_dictionary.rtf'"
   ]
  },
  {
   "cell_type": "markdown",
   "metadata": {},
   "source": [
    "## Create a DataDictionary object "
   ]
  },
  {
   "cell_type": "code",
   "execution_count": 3,
   "metadata": {},
   "outputs": [
    {
     "name": "stdout",
     "output_type": "stream",
     "text": [
      "A class for reading a UK Data Service .rtf data dictionary file\n",
      "    \n"
     ]
    },
    {
     "data": {
      "text/plain": [
       "<ukds.data_dictionary.DataDictionary at 0x23b2cea49e8>"
      ]
     },
     "execution_count": 3,
     "metadata": {},
     "output_type": "execute_result"
    }
   ],
   "source": [
    "dd=ukds.DataDictionary()\n",
    "print(dd.__doc__)\n",
    "dd"
   ]
  },
  {
   "cell_type": "markdown",
   "metadata": {},
   "source": [
    "## Read in the .rtf file\n",
    "\n",
    "This reads in the .rdf file and converts the information into a list of dictionaries which is stored in the attribute `variable_list`."
   ]
  },
  {
   "cell_type": "code",
   "execution_count": 4,
   "metadata": {},
   "outputs": [],
   "source": [
    "dd.read_rtf(fp)"
   ]
  },
  {
   "cell_type": "markdown",
   "metadata": {},
   "source": [
    "## Exploring the variable_list attribute"
   ]
  },
  {
   "cell_type": "markdown",
   "metadata": {},
   "source": [
    "The number of variables is:"
   ]
  },
  {
   "cell_type": "code",
   "execution_count": 5,
   "metadata": {},
   "outputs": [
    {
     "data": {
      "text/plain": [
       "335"
      ]
     },
     "execution_count": 5,
     "metadata": {},
     "output_type": "execute_result"
    }
   ],
   "source": [
    "len(dd.variable_list)"
   ]
  },
  {
   "cell_type": "markdown",
   "metadata": {},
   "source": [
    "The first variable has the following information:"
   ]
  },
  {
   "cell_type": "code",
   "execution_count": 6,
   "metadata": {},
   "outputs": [
    {
     "data": {
      "text/plain": [
       "{'pos': '1',\n",
       " 'variable': 'serial',\n",
       " 'variable_label': 'Household number',\n",
       " 'variable_type': 'numeric',\n",
       " 'SPSS_measurement_level': 'SCALE',\n",
       " 'SPSS_user_missing_values': '',\n",
       " 'value_labels': ''}"
      ]
     },
     "execution_count": 6,
     "metadata": {},
     "output_type": "execute_result"
    }
   ],
   "source": [
    "dd.variable_list[0]"
   ]
  },
  {
   "cell_type": "markdown",
   "metadata": {},
   "source": [
    "Here is an example of a variable which uses 'value_labels':"
   ]
  },
  {
   "cell_type": "code",
   "execution_count": 7,
   "metadata": {
    "scrolled": true
   },
   "outputs": [
    {
     "data": {
      "text/plain": [
       "{'pos': '4',\n",
       " 'variable': 'HhOut',\n",
       " 'variable_label': 'Final outcome - household',\n",
       " 'variable_type': 'numeric',\n",
       " 'SPSS_measurement_level': 'SCALE',\n",
       " 'SPSS_user_missing_values': '',\n",
       " 'value_labels': {0.0: 'Outstanding',\n",
       "  640.0: 'Unknown whether address is residential: No contact after 6+ calls',\n",
       "  214.0: 'Productive : Household questionnaire completed â€“ no individual interviews',\n",
       "  520.0: 'Away / in hospital during survey period',\n",
       "  650.0: 'Residential: unknown if eligible person(s) due to no-contact after 6+ calls',\n",
       "  531.0: 'Physically unable / incompetent',\n",
       "  532.0: 'Mentally unable / incompetent',\n",
       "  110.0: 'Productive : Household interview completed, all eligible household members completed individual interviews and diary',\n",
       "  790.0: 'Other ineligible',\n",
       "  410.0: 'Office refusal',\n",
       "  540.0: 'Language difficulties',\n",
       "  421.0: 'Information refused about number of DUs/HHs at address',\n",
       "  422.0: 'Information refused about people in household',\n",
       "  810.0: 'Information refused about whether address is residential',\n",
       "  430.0: 'Refusal before household interview',\n",
       "  690.0: 'Other unknown eligibility (due to non-contact)',\n",
       "  820.0: 'Contact made but no-one can confirm the presence of a resident hhold',\n",
       "  310.0: 'No contact with anyone at address after 6+ calls',\n",
       "  510.0: 'Ill at home during survey period',\n",
       "  830.0: 'Information refused about whether resident(s) are eligible',\n",
       "  321.0: 'Contact made at address. but not at selected DU/HH (USE IF MULTIPLE DUs/HHs ONLY)',\n",
       "  322.0: 'Contact made. but not with responsible resident',\n",
       "  451.0: 'Broken appointment. no re-contact',\n",
       "  710.0: 'Not yet built /  under construction',\n",
       "  591.0: 'Full interview but respondent requested deletion',\n",
       "  592.0: 'Partial interview but resp requested deletion',\n",
       "  -8.0: \"Don't know\",\n",
       "  210.0: 'Productive : At least one individual interview but not from all eligible household members',\n",
       "  598.0: 'Other reasons why unproductive',\n",
       "  599.0: 'Other reasons why no individual interviews',\n",
       "  612.0: 'Issued not attempted',\n",
       "  730.0: 'Vacant  / empty',\n",
       "  720.0: 'Demolished  / derelict',\n",
       "  611.0: 'Not issued to an interviewer',\n",
       "  740.0: 'Non-residential address (e.g. business. school. office. factory etc)',\n",
       "  620.0: 'Inaccessible',\n",
       "  850.0: 'Unable to confirm eligibility of resident(s) due to a language barrier',\n",
       "  750.0: 'Occupied. no resident household (e.g. occupied holiday/weekend home)',\n",
       "  -2.0: 'Schedule not applicable',\n",
       "  630.0: 'Unable to locate address',\n",
       "  -9.0: 'No answer/refused',\n",
       "  760.0: 'Communal establishment/institution â€“ no private dwellings',\n",
       "  -7.0: 'Interview not achieved',\n",
       "  890.0: 'Other unknown eligibility (contact made)',\n",
       "  -1.0: 'Item not applicable'}}"
      ]
     },
     "execution_count": 7,
     "metadata": {},
     "output_type": "execute_result"
    }
   ],
   "source": [
    "dd.variable_list[3]"
   ]
  },
  {
   "cell_type": "markdown",
   "metadata": {},
   "source": [
    "## get_variable_dict\n",
    "\n",
    "The `get_variable_dict` method provides access to the information for a single variable:"
   ]
  },
  {
   "cell_type": "code",
   "execution_count": 8,
   "metadata": {},
   "outputs": [
    {
     "data": {
      "text/plain": [
       "{'pos': '1',\n",
       " 'variable': 'serial',\n",
       " 'variable_label': 'Household number',\n",
       " 'variable_type': 'numeric',\n",
       " 'SPSS_measurement_level': 'SCALE',\n",
       " 'SPSS_user_missing_values': '',\n",
       " 'value_labels': ''}"
      ]
     },
     "execution_count": 8,
     "metadata": {},
     "output_type": "execute_result"
    }
   ],
   "source": [
    "dd.get_variable_dict('serial')"
   ]
  },
  {
   "cell_type": "code",
   "execution_count": 9,
   "metadata": {
    "scrolled": true
   },
   "outputs": [
    {
     "data": {
      "text/plain": [
       "{'pos': '4',\n",
       " 'variable': 'HhOut',\n",
       " 'variable_label': 'Final outcome - household',\n",
       " 'variable_type': 'numeric',\n",
       " 'SPSS_measurement_level': 'SCALE',\n",
       " 'SPSS_user_missing_values': '',\n",
       " 'value_labels': {0.0: 'Outstanding',\n",
       "  640.0: 'Unknown whether address is residential: No contact after 6+ calls',\n",
       "  214.0: 'Productive : Household questionnaire completed â€“ no individual interviews',\n",
       "  520.0: 'Away / in hospital during survey period',\n",
       "  650.0: 'Residential: unknown if eligible person(s) due to no-contact after 6+ calls',\n",
       "  531.0: 'Physically unable / incompetent',\n",
       "  532.0: 'Mentally unable / incompetent',\n",
       "  110.0: 'Productive : Household interview completed, all eligible household members completed individual interviews and diary',\n",
       "  790.0: 'Other ineligible',\n",
       "  410.0: 'Office refusal',\n",
       "  540.0: 'Language difficulties',\n",
       "  421.0: 'Information refused about number of DUs/HHs at address',\n",
       "  422.0: 'Information refused about people in household',\n",
       "  810.0: 'Information refused about whether address is residential',\n",
       "  430.0: 'Refusal before household interview',\n",
       "  690.0: 'Other unknown eligibility (due to non-contact)',\n",
       "  820.0: 'Contact made but no-one can confirm the presence of a resident hhold',\n",
       "  310.0: 'No contact with anyone at address after 6+ calls',\n",
       "  510.0: 'Ill at home during survey period',\n",
       "  830.0: 'Information refused about whether resident(s) are eligible',\n",
       "  321.0: 'Contact made at address. but not at selected DU/HH (USE IF MULTIPLE DUs/HHs ONLY)',\n",
       "  322.0: 'Contact made. but not with responsible resident',\n",
       "  451.0: 'Broken appointment. no re-contact',\n",
       "  710.0: 'Not yet built /  under construction',\n",
       "  591.0: 'Full interview but respondent requested deletion',\n",
       "  592.0: 'Partial interview but resp requested deletion',\n",
       "  -8.0: \"Don't know\",\n",
       "  210.0: 'Productive : At least one individual interview but not from all eligible household members',\n",
       "  598.0: 'Other reasons why unproductive',\n",
       "  599.0: 'Other reasons why no individual interviews',\n",
       "  612.0: 'Issued not attempted',\n",
       "  730.0: 'Vacant  / empty',\n",
       "  720.0: 'Demolished  / derelict',\n",
       "  611.0: 'Not issued to an interviewer',\n",
       "  740.0: 'Non-residential address (e.g. business. school. office. factory etc)',\n",
       "  620.0: 'Inaccessible',\n",
       "  850.0: 'Unable to confirm eligibility of resident(s) due to a language barrier',\n",
       "  750.0: 'Occupied. no resident household (e.g. occupied holiday/weekend home)',\n",
       "  -2.0: 'Schedule not applicable',\n",
       "  630.0: 'Unable to locate address',\n",
       "  -9.0: 'No answer/refused',\n",
       "  760.0: 'Communal establishment/institution â€“ no private dwellings',\n",
       "  -7.0: 'Interview not achieved',\n",
       "  890.0: 'Other unknown eligibility (contact made)',\n",
       "  -1.0: 'Item not applicable'}}"
      ]
     },
     "execution_count": 9,
     "metadata": {},
     "output_type": "execute_result"
    }
   ],
   "source": [
    "dd.get_variable_dict('HhOut')"
   ]
  },
  {
   "cell_type": "markdown",
   "metadata": {},
   "source": [
    "## get_variable_names\n",
    "\n",
    "This method returns a list of all variable names in the data dictionary file."
   ]
  },
  {
   "cell_type": "code",
   "execution_count": 10,
   "metadata": {
    "scrolled": true
   },
   "outputs": [
    {
     "data": {
      "text/plain": [
       "['serial',\n",
       " 'strata',\n",
       " 'psu',\n",
       " 'HhOut',\n",
       " 'hh_wt',\n",
       " 'IMonth',\n",
       " 'IYear',\n",
       " 'DM014',\n",
       " 'DM016',\n",
       " 'DM510',\n",
       " 'DM1115',\n",
       " 'DM1619',\n",
       " 'NumAdult',\n",
       " 'NumChild',\n",
       " 'NumSSex',\n",
       " 'NumCPart',\n",
       " 'NumMPart',\n",
       " 'NumCivP',\n",
       " 'DVHsize',\n",
       " 'Relsize',\n",
       " 'SelPer',\n",
       " 'CCPersNo',\n",
       " 'Accom',\n",
       " 'Hhldr1',\n",
       " 'Hhldr2',\n",
       " 'Hhldr3',\n",
       " 'Hhldr4',\n",
       " 'Hhldr5',\n",
       " 'Hhldr6',\n",
       " 'Hhldr7',\n",
       " 'Hhldr8',\n",
       " 'Hhldr9',\n",
       " 'Hhldr10',\n",
       " 'HiHNum',\n",
       " 'Tenure',\n",
       " 'NumRooms',\n",
       " 'TVSet',\n",
       " 'TVSetNum',\n",
       " 'Cable',\n",
       " 'CableNum',\n",
       " 'Games',\n",
       " 'GamesNum',\n",
       " 'Land',\n",
       " 'LandNum',\n",
       " 'Mob',\n",
       " 'MobPerm',\n",
       " 'Comp',\n",
       " 'CompNum',\n",
       " 'Microwav',\n",
       " 'Dishwash',\n",
       " 'WashMach',\n",
       " 'Tumble',\n",
       " 'Freezer',\n",
       " 'HmIntnet',\n",
       " 'IntAcc1',\n",
       " 'IntAcc2',\n",
       " 'IntAcc3',\n",
       " 'IntAcc4',\n",
       " 'IntAcc5',\n",
       " 'IntAcc6',\n",
       " 'IntPurch',\n",
       " 'VehOwn',\n",
       " 'VehNum',\n",
       " 'Repairs',\n",
       " 'Wages',\n",
       " 'SelfEmp',\n",
       " 'Pension',\n",
       " 'UnempBen',\n",
       " 'BenOth',\n",
       " 'Invest',\n",
       " 'IncOth',\n",
       " 'Income',\n",
       " 'IncCat',\n",
       " 'Help1',\n",
       " 'Help2',\n",
       " 'Help3',\n",
       " 'Help4',\n",
       " 'Help5',\n",
       " 'Help6',\n",
       " 'Help7',\n",
       " 'Help8',\n",
       " 'Help9',\n",
       " 'Help10',\n",
       " 'Help11',\n",
       " 'Help12',\n",
       " 'Help13',\n",
       " 'Help14',\n",
       " 'Help15',\n",
       " 'Help16',\n",
       " 'Help17',\n",
       " 'Help18',\n",
       " 'Help19',\n",
       " 'Help20',\n",
       " 'Help21',\n",
       " 'Help22',\n",
       " 'Help23',\n",
       " 'Help24',\n",
       " 'Help25',\n",
       " 'Help26',\n",
       " 'Help27',\n",
       " 'Help28',\n",
       " 'Help29',\n",
       " 'Help30',\n",
       " 'Help31',\n",
       " 'Help32',\n",
       " 'Help33',\n",
       " 'PaidNum',\n",
       " 'PaidTime',\n",
       " 'PaidHrs',\n",
       " 'PaidDays',\n",
       " 'PaidNum2',\n",
       " 'PaidTim2',\n",
       " 'PaidHrs2',\n",
       " 'PaidDay2',\n",
       " 'PaidNum3',\n",
       " 'PaidTim3',\n",
       " 'PaidHrs3',\n",
       " 'PaidDay3',\n",
       " 'PaidNum4',\n",
       " 'PaidTim4',\n",
       " 'PaidHrs4',\n",
       " 'PaidDay4',\n",
       " 'PaidNum5',\n",
       " 'PaidTim5',\n",
       " 'PaidHrs5',\n",
       " 'PaidDay5',\n",
       " 'PaidNum6',\n",
       " 'PaidTim6',\n",
       " 'PaidHrs6',\n",
       " 'PaidDay6',\n",
       " 'PaidNum7',\n",
       " 'PaidTim7',\n",
       " 'PaidHrs7',\n",
       " 'PaidDay7',\n",
       " 'PaidNum8',\n",
       " 'PaidTim8',\n",
       " 'PaidHrs8',\n",
       " 'PaidDay8',\n",
       " 'PaidNum9',\n",
       " 'PaidTim9',\n",
       " 'PaidHrs9',\n",
       " 'PaidDay9',\n",
       " 'PaidNu10',\n",
       " 'PaidTi10',\n",
       " 'PaidHr10',\n",
       " 'PaidDa10',\n",
       " 'PaidNu11',\n",
       " 'PaidTi11',\n",
       " 'PaidHr11',\n",
       " 'PaidDa11',\n",
       " 'NPaidNum',\n",
       " 'NPaidTim',\n",
       " 'NPaidHrs',\n",
       " 'NPaidDay',\n",
       " 'NPaidLas',\n",
       " 'NPaidNu2',\n",
       " 'NPaidTi2',\n",
       " 'NPaidHr2',\n",
       " 'NPaidDa2',\n",
       " 'NPaidLa2',\n",
       " 'NPaidNu3',\n",
       " 'NPaidTi3',\n",
       " 'NPaidHr3',\n",
       " 'NPaidDa3',\n",
       " 'NPaidLa3',\n",
       " 'NPaidNu4',\n",
       " 'NPaidTi4',\n",
       " 'NPaidHr4',\n",
       " 'NPaidDa4',\n",
       " 'NPaidLa4',\n",
       " 'NPaidNu5',\n",
       " 'NPaidTi5',\n",
       " 'NPaidHr5',\n",
       " 'NPaidDa5',\n",
       " 'NPaidLa5',\n",
       " 'NPaidNu6',\n",
       " 'NPaidTi6',\n",
       " 'NPaidHr6',\n",
       " 'NPaidDa6',\n",
       " 'NPaidLa6',\n",
       " 'NPaidNu7',\n",
       " 'NPaidTi7',\n",
       " 'NPaidHr7',\n",
       " 'NPaidDa7',\n",
       " 'NPaidLa7',\n",
       " 'NPaidNu8',\n",
       " 'NPaidTi8',\n",
       " 'NPaidHr8',\n",
       " 'NPaidDa8',\n",
       " 'NPaidLa8',\n",
       " 'NPaidNu9',\n",
       " 'NPaidTi9',\n",
       " 'NPaidHr9',\n",
       " 'NPaidDa9',\n",
       " 'NPaidLa9',\n",
       " 'NPaidN10',\n",
       " 'NPaidT10',\n",
       " 'NPaidH10',\n",
       " 'NPaidD10',\n",
       " 'NPaidL10',\n",
       " 'NPaidN11',\n",
       " 'NPaidT11',\n",
       " 'NPaidH11',\n",
       " 'NPaidD11',\n",
       " 'NPaidL11',\n",
       " 'DMSex_P1',\n",
       " 'DMSex_P2',\n",
       " 'DMSex_P3',\n",
       " 'DMSex_P4',\n",
       " 'DMSex_P5',\n",
       " 'DMSex_P6',\n",
       " 'DMSex_P7',\n",
       " 'DMSex_P8',\n",
       " 'DMSex_P9',\n",
       " 'DMSex_P10',\n",
       " 'WorkSta_P1',\n",
       " 'WorkSta_P2',\n",
       " 'WorkSta_P3',\n",
       " 'WorkSta_P4',\n",
       " 'WorkSta_P5',\n",
       " 'WorkSta_P6',\n",
       " 'WorkSta_P7',\n",
       " 'WorkSta_P8',\n",
       " 'WorkSta_P9',\n",
       " 'WorkSta_P10',\n",
       " 'DVAge_P1',\n",
       " 'DVAge_P2',\n",
       " 'DVAge_P3',\n",
       " 'DVAge_P4',\n",
       " 'DVAge_P5',\n",
       " 'DVAge_P6',\n",
       " 'DVAge_P7',\n",
       " 'DVAge_P8',\n",
       " 'DVAge_P9',\n",
       " 'DVAge_P10',\n",
       " 'Relate1_P1',\n",
       " 'Relate1_P2',\n",
       " 'Relate1_P3',\n",
       " 'Relate1_P4',\n",
       " 'Relate1_P5',\n",
       " 'Relate1_P6',\n",
       " 'Relate1_P7',\n",
       " 'Relate1_P8',\n",
       " 'Relate1_P9',\n",
       " 'Relate1_P10',\n",
       " 'Relate2_P1',\n",
       " 'Relate2_P2',\n",
       " 'Relate2_P3',\n",
       " 'Relate2_P4',\n",
       " 'Relate2_P5',\n",
       " 'Relate2_P6',\n",
       " 'Relate2_P7',\n",
       " 'Relate2_P8',\n",
       " 'Relate2_P9',\n",
       " 'Relate2_P10',\n",
       " 'Relate3_P1',\n",
       " 'Relate3_P2',\n",
       " 'Relate3_P3',\n",
       " 'Relate3_P4',\n",
       " 'Relate3_P5',\n",
       " 'Relate3_P6',\n",
       " 'Relate3_P7',\n",
       " 'Relate3_P8',\n",
       " 'Relate3_P9',\n",
       " 'Relate3_P10',\n",
       " 'Relate4_P1',\n",
       " 'Relate4_P2',\n",
       " 'Relate4_P3',\n",
       " 'Relate4_P4',\n",
       " 'Relate4_P5',\n",
       " 'Relate4_P6',\n",
       " 'Relate4_P7',\n",
       " 'Relate4_P8',\n",
       " 'Relate4_P9',\n",
       " 'Relate4_P10',\n",
       " 'Relate5_P1',\n",
       " 'Relate5_P2',\n",
       " 'Relate5_P3',\n",
       " 'Relate5_P4',\n",
       " 'Relate5_P5',\n",
       " 'Relate5_P6',\n",
       " 'Relate5_P7',\n",
       " 'Relate5_P8',\n",
       " 'Relate5_P9',\n",
       " 'Relate5_P10',\n",
       " 'Relate6_P1',\n",
       " 'Relate6_P2',\n",
       " 'Relate6_P3',\n",
       " 'Relate6_P4',\n",
       " 'Relate6_P5',\n",
       " 'Relate6_P6',\n",
       " 'Relate6_P7',\n",
       " 'Relate6_P8',\n",
       " 'Relate6_P9',\n",
       " 'Relate6_P10',\n",
       " 'Relate7_P1',\n",
       " 'Relate7_P2',\n",
       " 'Relate7_P3',\n",
       " 'Relate7_P4',\n",
       " 'Relate7_P5',\n",
       " 'Relate7_P6',\n",
       " 'Relate7_P7',\n",
       " 'Relate7_P8',\n",
       " 'Relate7_P9',\n",
       " 'Relate7_P10',\n",
       " 'Relate8_P1',\n",
       " 'Relate8_P2',\n",
       " 'Relate8_P3',\n",
       " 'Relate8_P4',\n",
       " 'Relate8_P5',\n",
       " 'Relate8_P6',\n",
       " 'Relate8_P7',\n",
       " 'Relate8_P8',\n",
       " 'Relate8_P9',\n",
       " 'Relate8_P10',\n",
       " 'Relate9_P1',\n",
       " 'Relate9_P2',\n",
       " 'Relate9_P3',\n",
       " 'Relate9_P4',\n",
       " 'Relate9_P5',\n",
       " 'Relate9_P6',\n",
       " 'Relate9_P7',\n",
       " 'Relate9_P8',\n",
       " 'Relate9_P9',\n",
       " 'Relate9_P10',\n",
       " 'Relate10_P1',\n",
       " 'Relate10_P2',\n",
       " 'Relate10_P3',\n",
       " 'Relate10_P4',\n",
       " 'Relate10_P5',\n",
       " 'Relate10_P6',\n",
       " 'Relate10_P7',\n",
       " 'Relate10_P8',\n",
       " 'Relate10_P9',\n",
       " 'Relate10_P10']"
      ]
     },
     "execution_count": 10,
     "metadata": {},
     "output_type": "execute_result"
    }
   ],
   "source": [
    "dd.get_variable_names()"
   ]
  },
  {
   "cell_type": "code",
   "execution_count": null,
   "metadata": {},
   "outputs": [],
   "source": []
  }
 ],
 "metadata": {
  "kernelspec": {
   "display_name": "Python 3",
   "language": "python",
   "name": "python3"
  },
  "language_info": {
   "codemirror_mode": {
    "name": "ipython",
    "version": 3
   },
   "file_extension": ".py",
   "mimetype": "text/x-python",
   "name": "python",
   "nbconvert_exporter": "python",
   "pygments_lexer": "ipython3",
   "version": "3.7.3"
  }
 },
 "nbformat": 4,
 "nbformat_minor": 2
}
